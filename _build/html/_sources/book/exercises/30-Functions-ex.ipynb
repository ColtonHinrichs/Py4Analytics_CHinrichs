{
 "cells": [
  {
   "cell_type": "markdown",
   "metadata": {},
   "source": [
    "# Try it: Functions\n",
    "## Creating a function\n",
    "\n",
    "Looking back at our previous examples, we notice that each time we want to use this functionality, we have to type it over and over again.  Or if we want to share it with someone else we have to tell them to change ```my_name``` to their own name.  Let's take this one step further and create a reusable function.\n",
    "\n",
    "As you will remember, a function is a set of instructions that are combined together and can be referred to with a single name.  We assign variables to the function when we \"call\" the function.  So for instance, if we have a function called ```sum``` it takes two variables.  The value of these variables are defined outside the function, and when we call the function the values of ```x``` and ```y``` are replaced with the values we provide.  This allows us to something complex with these values and they can change each time."
   ]
  },
  {
   "cell_type": "code",
   "execution_count": null,
   "metadata": {},
   "outputs": [],
   "source": [
    "# Create a function called 'add' which takes two variables x and y\n",
    "def sum(x,y):\n",
    "    print(f'The value of x is {x}')\n",
    "    print(f'The value of y is {y}')\n",
    "    # Assign the variable result to be the sum of x and y\n",
    "    result = x+y\n",
    "    return result\n",
    "\n",
    "print(f'When we call the sum function the result is {sum(5,4)}')\n",
    "\n",
    "first_number = 10\n",
    "second_number = 12\n",
    "\n",
    "# Using two variables to call the sum function and assigning the result to a third variable\n",
    "sum_of_first_second = sum(first_number,second_number)\n",
    "\n",
    "print(f\"Let's use two variables to call the sum function: {sum_of_first_second}\")"
   ]
  },
  {
   "cell_type": "markdown",
   "metadata": {},
   "source": [
    "You can see from the example above that ```x``` and ```y``` are placeholders that are defined when the function is called.  When we called the ```sum``` functions ```x``` and ```y``` changed each time, the first time because we specified the numbers 4 and 5 the second time we used variables to set the values to be used for  ```x``` and ```y```.\n",
    "\n",
    "How can we use this to improve our greeting?  Let's create a function called ```greeting``` which takes as it's inputs the name of the author and the name of the person we are greeting.  This way, we can decide how we want to get these values (create them as variables, ask for input, read from a file, etc).\n",
    "\n",
    "In the next cell, we have defined the function for you.  You just need to put your code in the body of the function.  Remember, the body of the function is everything that is indented at least one level.\n",
    "\n",
    "````{tip}\n",
    "it is handy to know that words between ```'''``` (three single quotes) are comments that span multiple lines.  So these two blocks below are both valid comments (that is they are ignored by Python).  By convention (it's not required, just good practice), when we define a function we put a multi-line comment which starts with the purpose of the function and also defines the parameters and any result the function returns.  This helps others wanting to use the function to know what to expect and how to use it.\n",
    "```python\n",
    "# Function purpose\n",
    "#\n",
    "# Parameters:\n",
    "#\n",
    "```\n",
    "This is also a comment block\n",
    "```\n",
    "''' Function Purpose\n",
    "    \n",
    "    Parameters:\n",
    "'''\n",
    "```\n",
    "````"
   ]
  }
 ],
 "metadata": {
  "kernelspec": {
   "display_name": "Python 3.9.12 ('base')",
   "language": "python",
   "name": "python3"
  },
  "language_info": {
   "name": "python",
   "version": "3.9.12"
  },
  "orig_nbformat": 4,
  "vscode": {
   "interpreter": {
    "hash": "d4d1e4263499bec80672ea0156c357c1ee493ec2b1c70f0acce89fc37c4a6abe"
   }
  }
 },
 "nbformat": 4,
 "nbformat_minor": 2
}
